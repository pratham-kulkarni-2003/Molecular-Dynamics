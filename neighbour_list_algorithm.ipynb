{
 "cells": [
  {
   "cell_type": "code",
   "execution_count": 2,
   "metadata": {},
   "outputs": [],
   "source": [
    "import numpy as np\n",
    "import matplotlib.pyplot as plt\n",
    "\n"
   ]
  },
  {
   "cell_type": "code",
   "execution_count": 26,
   "metadata": {},
   "outputs": [],
   "source": [
    "# Initialize position and velocity of particles\n",
    "pos= np.random.rand(3, 1000)\n",
    "np.random.seed(0)\n",
    "for i in range(10):\n",
    "   pos[0,100*i:100*(i+1)-1]= i%10\n",
    "for i in range(100):\n",
    "   pos[1,10*i:10*(i+1)-1]=i%10\n",
    "for i in range(1000):\n",
    "    pos[2,i]=i%10\n",
    "\n",
    "vel = np.random.rand(3, 1000)\n",
    "# Constants\n",
    "dt = 0.001\n",
    "n_steps = 10000\n",
    "sigma = 3.54\n",
    "epsilon = 0.185\n",
    "r_cutoff = 2.5*sigma\n",
    "box_size = 1000\n"
   ]
  },
  {
   "cell_type": "code",
   "execution_count": 29,
   "metadata": {},
   "outputs": [],
   "source": [
    "#function to return distances\n",
    "def get_dist(i):\n",
    "    pos_copy = np.copy(pos)\n",
    "    point = pos_copy[:,i,None]\n",
    "    pos_copy = pos_copy - point\n",
    "    dist = np.sqrt(np.sum(pos_copy**2,axis = 0))\n",
    "    return dist, pos_copy\n"
   ]
  },
  {
   "attachments": {},
   "cell_type": "markdown",
   "metadata": {},
   "source": [
    "iterations start\n"
   ]
  },
  {
   "cell_type": "code",
   "execution_count": 32,
   "metadata": {},
   "outputs": [],
   "source": [
    "#updating array distances\n",
    "distances = np.zeros((1000,1000))\n",
    "distance_vector=np.zeros((3,1000,1000))\n",
    "for i in range(1000):\n",
    "    distances[i,:], distance_vector[:,i,:] = get_dist(i)\n",
    "neighbour_list = []\n",
    "neighbours=[]\n",
    "for i in range(1000):\n",
    "    for j in range(1000):    \n",
    "        if(distances[i][j]<=r_cutoff):\n",
    "            neighbours.append(j)\n",
    "neighbour_list.append(neighbours)\n",
    "\n"
   ]
  },
  {
   "cell_type": "code",
   "execution_count": null,
   "metadata": {},
   "outputs": [],
   "source": [
    "# Velocity Verlet algorithm\n",
    "for step in range(n_steps):\n",
    "    # Compute forces\n",
    "    force = np.zeros((3, 1000))\n",
    "    for i in range(1000):\n",
    "        for j in neighbour_list[i]:\n",
    "        \n",
    "            force[0][i] += 4*epsilon*((sigma/distances[i][j])**12 - (sigma/distances[i][j])**6)*(distance_vector[0][i][j]/distances[i][j])\n",
    "            force[1][i]+= 4*epsilon*((sigma/distances[i][j])**12 - (sigma/distances[i][j])**6)*(distance_vector[1][i][j]/distances[i][j])\n",
    "            force[2][i] += 4*epsilon*((sigma/distances[i][j])**12 - (sigma/distances[i][j])**6)*(distance_vector[2][i][j]/distances[i][j])\n",
    "\n",
    "    # Update positions\n",
    "    pos += vel*dt + 0.5*force*dt**2\n",
    "    #Check for wall crossings and handle them\n",
    "    for i in range(1000):\n",
    "        for j in range(3):\n",
    "            if pos[j,i] > box_size:\n",
    "                pos[j,i] = pos[j,i]-box_size\n",
    "                if pos[j,i] < 0:\n",
    "                    pos[j,i] = pos[j,i]+box_size\n",
    "    # update neighbour list\n",
    "    for i in range(1000):\n",
    "        for j in neighbour_list[i]:\n",
    "            r = np.sqrt(np.sum((pos[:, i] - pos[:, j])**2))\n",
    "            if r > r_cutoff:\n",
    "                neighbour_list[i].remove(j)"
   ]
  }
 ],
 "metadata": {
  "kernelspec": {
   "display_name": "2022-23",
   "language": "python",
   "name": "python3"
  },
  "language_info": {
   "codemirror_mode": {
    "name": "ipython",
    "version": 3
   },
   "file_extension": ".py",
   "mimetype": "text/x-python",
   "name": "python",
   "nbconvert_exporter": "python",
   "pygments_lexer": "ipython3",
   "version": "3.11.3"
  },
  "orig_nbformat": 4
 },
 "nbformat": 4,
 "nbformat_minor": 2
}
