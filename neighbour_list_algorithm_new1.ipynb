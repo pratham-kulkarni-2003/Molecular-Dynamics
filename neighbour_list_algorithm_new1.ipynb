{
 "cells": [
  {
   "cell_type": "code",
   "execution_count": 17,
   "metadata": {},
   "outputs": [],
   "source": [
    "import numpy as np\n",
    "import matplotlib.pyplot as plt"
   ]
  },
  {
   "cell_type": "code",
   "execution_count": 18,
   "metadata": {},
   "outputs": [],
   "source": [
    "# Initialize position and velocity of particles\n",
    "pos= np.zeros((3,1000))\n",
    "np.random.seed(0)\n",
    "for j in range(100):\n",
    "   for i in range(10):\n",
    "      pos[0,j+100*i:j+100*(i+1)-1]= i%10\n",
    "for j in range(10):\n",
    "   for i in range(100):\n",
    "      pos[1,j+10*i:j+10*(i+1)-1]=i%10\n",
    "for i in range(1000):\n",
    "    pos[2,i]=i%10\n",
    "\n",
    "vel = np.random.rand(3, 1000)\n",
    "pos=pos*3.636\n",
    "s=np.sum(vel)\n",
    "vel= vel-s/1000\n",
    "rms= np.sqrt(np.sum(vel*vel/1000,axis = 0))\n",
    "scale= 176/rms\n",
    "vel=vel*scale\n",
    "# Constants\n",
    "dt = 0.000000000000000001\n",
    "n_steps = 10000\n",
    "sigma = 3.636\n",
    "epsilon = 0.185\n",
    "r_cutoff = 2.5*sigma\n",
    "box_size = 1000\n"
   ]
  },
  {
   "attachments": {},
   "cell_type": "markdown",
   "metadata": {},
   "source": [
    "Function defined which is repeated in every loop to find distance between particles"
   ]
  },
  {
   "cell_type": "code",
   "execution_count": 19,
   "metadata": {},
   "outputs": [],
   "source": [
    "#function to return distances\n",
    "def get_dist(i):\n",
    "    pos_copy = np.copy(pos)\n",
    "    point = pos_copy[:,i,None]\n",
    "    pos_dir = pos_copy - point\n",
    "    dist = np.sqrt(np.sum(pos_dir**2,axis = 0))\n",
    "    return dist, pos_dir\n"
   ]
  },
  {
   "attachments": {},
   "cell_type": "markdown",
   "metadata": {},
   "source": [
    "To store the distance between two particles and update the neighbours list\n"
   ]
  },
  {
   "cell_type": "code",
   "execution_count": 20,
   "metadata": {},
   "outputs": [],
   "source": [
    "#updating array distances\n",
    "distances = np.zeros((1000,1000))\n",
    "distance_vector=np.zeros((3,1000,1000))\n",
    "for i in range(1000):\n",
    "    distances[i,:], distance_vector[:,:,i] = get_dist(i)\n",
    "# neighbour_list = []\n",
    "# neighbours=[]\n",
    "# for i in range(1000):\n",
    "#     for j in range(1000):    \n",
    "#         if(distances[i][j]<=r_cutoff):\n",
    "#             neighbours.append(j)\n",
    "# neighbour_list.append(neighbours)\n",
    "\n",
    "neighbours = distances < r_cutoff\n",
    "friends = distances >= r_cutoff \n",
    "friends = distances < r_cutoff +1\n"
   ]
  },
  {
   "attachments": {},
   "cell_type": "markdown",
   "metadata": {},
   "source": [
    "Simulation loop begins implementing velocity verlet algorithm\n",
    "time complexity ~ O(n^3)"
   ]
  },
  {
   "cell_type": "code",
   "execution_count": 21,
   "metadata": {},
   "outputs": [
    {
     "name": "stdout",
     "output_type": "stream",
     "text": [
      "5565.608681896346 1.7575536876743805e+45 7.940730889933865e+43 2.173457849778017e+44\n"
     ]
    },
    {
     "data": {
      "image/png": "[encoded data removed]",
      "text/plain": [
       "<Figure size 640x480 with 1 Axes>"
      ]
     },
     "metadata": {},
     "output_type": "display_data"
    },
    {
     "name": "stderr",
     "output_type": "stream",
     "text": [
      "C:\\Users\\prath\\AppData\\Local\\Temp\\ipykernel_16188\\670637891.py:53: RuntimeWarning: overflow encountered in double_scalars\n",
      "  force_new[:,i] += (24*epsilon*(2*(sigma**12/distances[i,j]**13) - (sigma**6/distances[i,j]**7)))*(distance_vector[:,i,j]/distances[i,j])\n"
     ]
    },
    {
     "name": "stdout",
     "output_type": "stream",
     "text": [
      "5565.608681896346 5.2726610630231405e+45 2.38221926698016e+44 6.5203735493340495e+44\n",
      "5565.608681896346 8.787768438371902e+45 3.970365444966934e+44 1.0867289248890083e+45\n",
      "5565.608681896346 1.2302875813720665e+46 5.5585116229537056e+44 1.5214204948446116e+45\n"
     ]
    }
   ],
   "source": [
    "import time \n",
    "# Velocity Verlet algorithm\n",
    "n_steps = 100\n",
    "force = np.zeros((3, 1000))\n",
    "force_new = np.zeros((3, 1000))\n",
    "distances = distances + 0.00001\n",
    "k=0\n",
    "for step in range(n_steps):\n",
    "    if(k==0):\n",
    "        for i in range(1000):\n",
    "            for j,bool in enumerate(list(neighbours[i,:])):\n",
    "                if bool == False and i==j: continue\n",
    "                force[:,i] += (24*epsilon*(2*(sigma**12/distances[i,j]**13) - (sigma**6/distances[i,j]**7)))*(distance_vector[:,i,j]/distances[i,j])\n",
    "    k+=1\n",
    "    #abs_force = np.linalg.norm(force,axis=0)\n",
    "    #print(abs_force.min(),abs_force.max(),abs_force.mean(),abs_force.std())\n",
    "\n",
    "    # Update positions\n",
    "    pos += vel*dt + 0.5*force*dt**2\n",
    "    #Check for wall crossings and handle them\n",
    "    for k in range(1000):\n",
    "        for j in range(3):\n",
    "            if (pos[0][k] > box_size):\n",
    "                pos[0][k] = pos[0][k]-box_size\n",
    "\n",
    "            if (pos[1][k] > box_size):\n",
    "                pos[1][k] = pos[0][k]-box_size\n",
    "\n",
    "            if (pos[2][k] > box_size):\n",
    "                pos[2][k] = pos[0][k]-box_size    \n",
    "\n",
    "                if pos[0][k] < 0:\n",
    "                    pos[0][k] = pos[0][k]+box_size\n",
    "\n",
    "                if pos[1][k] < 0:\n",
    "                    pos[1][k] = pos[1][k]+box_size  \n",
    "                    \n",
    "                if pos[2][k] < 0:\n",
    "                    pos[2][k] = pos[2][k]+box_size  \n",
    "        \n",
    "    # Update distances\n",
    "    for k in range(1000):\n",
    "        distances[k,:], distance_vector[:,:,k] = get_dist(k)\n",
    "    distances = distances + 0.00001\n",
    "\n",
    "    neighbours = distances < r_cutoff\n",
    "\n",
    "    for i in range(1000):\n",
    "        for j,bool in enumerate(list(neighbours[i,:])):\n",
    "            if bool == False and i==j: \n",
    "                force_new[:,i] = 0\n",
    "                continue\n",
    "            force_new[:,i] += (24*epsilon*(2*(sigma**12/distances[i,j]**13) - (sigma**6/distances[i,j]**7)))*(distance_vector[:,i,j]/distances[i,j])\n",
    "\n",
    "    vel += (force + force_new)*dt/2\n",
    "\n",
    "    force = force_new\n",
    "\n",
    "    abs_vel = np.linalg.norm(vel, axis=0)\n",
    "    print(abs_vel.min(),abs_vel.max(),abs_vel.mean(),abs_vel.std())\n",
    "    vel1=np.sqrt(vel*vel)   \n",
    "       \n",
    "    #Plot velocity of particles\n",
    "    if(step%10==0):\n",
    "         plt.hist(np.linalg.norm(vel1, axis=0), bins=50)\n",
    "         plt.xlim(0, 10e44)\n",
    "         plt.ylim(0,1000)\n",
    "         plt.xlabel('Velocity')\n",
    "         plt.ylabel('Count')\n",
    "         plt.show() \n",
    "    #print(step)  \n"
   ]
  }
 ],
 "metadata": {
  "kernelspec": {
   "display_name": "2022-23",
   "language": "python",
   "name": "python3"
  },
  "language_info": {
   "codemirror_mode": {
    "name": "ipython",
    "version": 3
   },
   "file_extension": ".py",
   "mimetype": "text/x-python",
   "name": "python",
   "nbconvert_exporter": "python",
   "pygments_lexer": "ipython3",
   "version": "3.11.3"
  },
  "orig_nbformat": 4
 },
 "nbformat": 4,
 "nbformat_minor": 2
}
