{
 "cells": [
  {
   "cell_type": "code",
   "execution_count": 162,
   "metadata": {},
   "outputs": [],
   "source": [
    "import numpy as np\n",
    "import matplotlib.pyplot as plt\n"
   ]
  },
  {
   "cell_type": "code",
   "execution_count": 163,
   "metadata": {},
   "outputs": [],
   "source": [
    "# Initialize position and velocity of particles\n",
    "pos= np.zeros((3,1000))\n",
    "np.random.seed(0)\n",
    "for j in range(100):\n",
    "   for i in range(10):\n",
    "      pos[0,j+100*i:j+100*(i+1)-1]= i%10\n",
    "for j in range(10):\n",
    "   for i in range(100):\n",
    "      pos[1,j+10*i:j+10*(i+1)-1]=i%10\n",
    "for i in range(1000):\n",
    "    pos[2,i]=i%10\n",
    "\n",
    "vel = np.random.rand(3, 1000)\n",
    "vel=vel-0.5\n",
    "vel=vel*176.8\n",
    "# Constants\n",
    "dt = 0.001\n",
    "n_steps = 10000\n",
    "sigma = 3.54\n",
    "epsilon = 0.185\n",
    "r_cutoff = 2.5*sigma\n",
    "box_size = 1000\n"
   ]
  },
  {
   "attachments": {},
   "cell_type": "markdown",
   "metadata": {},
   "source": [
    "Function defined which is repeated in every loop to find distance between particles"
   ]
  },
  {
   "cell_type": "code",
   "execution_count": 165,
   "metadata": {},
   "outputs": [],
   "source": [
    "#function to return distances\n",
    "def get_dist(i):\n",
    "    pos_copy = np.copy(pos)\n",
    "    point = pos_copy[:,i,None]\n",
    "    pos_dir = pos_copy - point\n",
    "    dist = np.sqrt(np.sum(pos_dir**2,axis = 0))\n",
    "    return dist, pos_dir\n"
   ]
  },
  {
   "attachments": {},
   "cell_type": "markdown",
   "metadata": {},
   "source": [
    "To store the distance between two particles and update the neighbours list\n"
   ]
  },
  {
   "cell_type": "code",
   "execution_count": 1,
   "metadata": {},
   "outputs": [
    {
     "ename": "SyntaxError",
     "evalue": "invalid syntax (2297521490.py, line 15)",
     "output_type": "error",
     "traceback": [
      "\u001b[1;36m  Cell \u001b[1;32mIn[1], line 15\u001b[1;36m\u001b[0m\n\u001b[1;33m    friends = distances >= r_cutoff && distances < r_cutoff\u001b[0m\n\u001b[1;37m                                     ^\u001b[0m\n\u001b[1;31mSyntaxError\u001b[0m\u001b[1;31m:\u001b[0m invalid syntax\n"
     ]
    }
   ],
   "source": [
    "#updating array distances\n",
    "distances = np.zeros((1000,1000))\n",
    "distance_vector=np.zeros((3,1000,1000))\n",
    "for i in range(1000):\n",
    "    distances[i,:], distance_vector[:,:,i] = get_dist(i)\n",
    "# neighbour_list = []\n",
    "# neighbours=[]\n",
    "# for i in range(1000):\n",
    "#     for j in range(1000):    \n",
    "#         if(distances[i][j]<=r_cutoff):\n",
    "#             neighbours.append(j)\n",
    "# neighbour_list.append(neighbours)\n",
    "\n",
    "neighbours = distances < r_cutoff\n",
    "friends = distances >= r_cutoff && distances < r_cutoff\n"
   ]
  },
  {
   "attachments": {},
   "cell_type": "markdown",
   "metadata": {},
   "source": [
    "Simulation loop begins"
   ]
  },
  {
   "cell_type": "code",
   "execution_count": 170,
   "metadata": {},
   "outputs": [
    {
     "name": "stdout",
     "output_type": "stream",
     "text": [
      "0.0 164114286047116.5 1190859014584.4749 11790008253351.256\n",
      "154.50635435248492 3.447319858672712e+48 1.4385957695833226e+46 1.837366339404402e+47\n",
      "0\n",
      "0.0 1.3605865387625158e+24 2.919308708569491e+21 6.093620632724955e+22\n",
      "294.9356809302808 3.447319858672712e+48 1.4385957695833226e+46 1.837366339404402e+47\n",
      "1\n"
     ]
    },
    {
     "ename": "KeyboardInterrupt",
     "evalue": "",
     "output_type": "error",
     "traceback": [
      "\u001b[0;31m---------------------------------------------------------------------------\u001b[0m",
      "\u001b[0;31mKeyboardInterrupt\u001b[0m                         Traceback (most recent call last)",
      "Cell \u001b[0;32mIn[170], line 11\u001b[0m\n\u001b[1;32m      9\u001b[0m     \u001b[39mfor\u001b[39;00m j,\u001b[39mbool\u001b[39m \u001b[39min\u001b[39;00m \u001b[39menumerate\u001b[39m(\u001b[39mlist\u001b[39m(neighbours[i,:])):\n\u001b[1;32m     10\u001b[0m         \u001b[39mif\u001b[39;00m \u001b[39mbool\u001b[39m \u001b[39m==\u001b[39m \u001b[39mFalse\u001b[39;00m \u001b[39mand\u001b[39;00m i\u001b[39m==\u001b[39mj: \u001b[39mcontinue\u001b[39;00m\n\u001b[0;32m---> 11\u001b[0m         force[:,i] \u001b[39m+\u001b[39m\u001b[39m=\u001b[39m (\u001b[39m4\u001b[39m\u001b[39m*\u001b[39mepsilon\u001b[39m*\u001b[39m((sigma\u001b[39m/\u001b[39mdistances[i,j])\u001b[39m*\u001b[39m\u001b[39m*\u001b[39m\u001b[39m12\u001b[39m \u001b[39m-\u001b[39m (sigma\u001b[39m/\u001b[39mdistances[i,j])\u001b[39m*\u001b[39m\u001b[39m*\u001b[39m\u001b[39m6\u001b[39m))\u001b[39m*\u001b[39m(distance_vector[:,i,j]\u001b[39m/\u001b[39mdistances[i,j])\n\u001b[1;32m     13\u001b[0m abs_force \u001b[39m=\u001b[39m np\u001b[39m.\u001b[39mlinalg\u001b[39m.\u001b[39mnorm(force,axis\u001b[39m=\u001b[39m\u001b[39m0\u001b[39m)\n\u001b[1;32m     14\u001b[0m \u001b[39mprint\u001b[39m(abs_force\u001b[39m.\u001b[39mmin(),abs_force\u001b[39m.\u001b[39mmax(),abs_force\u001b[39m.\u001b[39mmean(),abs_force\u001b[39m.\u001b[39mstd())\n",
      "\u001b[0;31mKeyboardInterrupt\u001b[0m: "
     ]
    }
   ],
   "source": [
    "import time \n",
    "# Velocity Verlet algorithm\n",
    "n_steps = 100\n",
    "force = np.zeros((3, 1000))\n",
    "force_new = np.zeros((3, 1000))\n",
    "distances = distances + 0.00001\n",
    "for step in range(n_steps):\n",
    "    for i in range(1000):\n",
    "        for j,bool in enumerate(list(neighbours[i,:])):\n",
    "            if bool == False and i==j: continue\n",
    "            force[:,i] += (24*epsilon*(2*(sigma**12/distances[i,j]**13) - (sigma**6/distances[i,j]**7)))*(distance_vector[:,i,j]/distances[i,j])\n",
    "\n",
    "    abs_force = np.linalg.norm(force,axis=0)\n",
    "    print(abs_force.min(),abs_force.max(),abs_force.mean(),abs_force.std())\n",
    "\n",
    "    # Update positions\n",
    "    pos += vel*dt + 0.5*force*dt**2\n",
    "    #Check for wall crossings and handle them\n",
    "    for k in range(1000):\n",
    "        for j in range(3):\n",
    "            if (pos[0][k] > box_size):\n",
    "                pos[0][k] = pos[0][k]-box_size\n",
    "\n",
    "            if (pos[1][k] > box_size):\n",
    "                pos[1][k] = pos[0][k]-box_size\n",
    "\n",
    "            if (pos[2][k] > box_size):\n",
    "                pos[2][k] = pos[0][k]-box_size    \n",
    "\n",
    "                if pos[0][k] < 0:\n",
    "                    pos[0][k] = pos[0][k]+box_size\n",
    "\n",
    "                if pos[1][k] < 0:\n",
    "                    pos[1][k] = pos[1][k]+box_size  \n",
    "                    \n",
    "                if pos[2][k] < 0:\n",
    "                    pos[2][k] = pos[2][k]+box_size  \n",
    "        \n",
    "    # Update distances\n",
    "    for k in range(1000):\n",
    "        distances[k,:], distance_vector[:,:,k] = get_dist(k)\n",
    "    distances = distances + 0.00001\n",
    "\n",
    "    neighbours = distances < r_cutoff\n",
    "\n",
    "\n",
    "    for j in neighbours[0,:]:\n",
    "        if j == False: continue\n",
    "        force_new[:,j] += (4*epsilon*((sigma/distances[0,j])**12 - (sigma/distances[0,j])**6))*(distance_vector[:,0,j]/distances[0,j])\n",
    "    \n",
    "    vel += (force + force_new)*dt/2\n",
    "\n",
    "    force = force_new\n",
    "\n",
    "    abs_vel = np.linalg.norm(vel, axis=0)\n",
    "    print(abs_vel.min(),abs_vel.max(),abs_vel.mean(),abs_vel.std())\n",
    "            \n",
    "    # # Plot velocity of particles\n",
    "    # if(step%100==0):\n",
    "    #     plt.hist(np.linalg.norm(vel, axis=0), bins=50)\n",
    "    #     plt.xlim(0,1)\n",
    "    #     plt.xlabel('Velocity')\n",
    "    #     plt.ylabel('Count')\n",
    "    #     plt.show() \n",
    "    print(step)  \n"
   ]
  }
 ],
 "metadata": {
  "kernelspec": {
   "display_name": "2022-23",
   "language": "python",
   "name": "python3"
  },
  "language_info": {
   "codemirror_mode": {
    "name": "ipython",
    "version": 3
   },
   "file_extension": ".py",
   "mimetype": "text/x-python",
   "name": "python",
   "nbconvert_exporter": "python",
   "pygments_lexer": "ipython3",
   "version": "3.9.13"
  },
  "orig_nbformat": 4
 },
 "nbformat": 4,
 "nbformat_minor": 2
}
